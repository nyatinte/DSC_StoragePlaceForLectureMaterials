{
 "cells": [
  {
   "attachments": {},
   "cell_type": "markdown",
   "metadata": {},
   "source": [
    "# 回答\n",
    "\n",
    "回答を確認する前に、自分でチャレンジしてみましょう！\n",
    "\n",
    "<!-- 空白 -->\n",
    "<div style=\"height: 300px;\"></div>\n",
    "↓↓↓↓↓↓↓↓↓↓↓↓↓↓↓↓↓↓↓↓↓↓↓↓↓↓↓"
   ]
  },
  {
   "cell_type": "code",
   "execution_count": 15,
   "metadata": {},
   "outputs": [],
   "source": [
    "import os"
   ]
  },
  {
   "cell_type": "code",
   "execution_count": null,
   "metadata": {},
   "outputs": [],
   "source": [
    "# 作成先のディレクトリのパス\n",
    "# 相対パスでも絶対パスでもOK\n",
    "target_path = \"./3年前期\"\n",
    "\n",
    "# 講義名のリスト\n",
    "lectures = [\"講義1\", \"講義2\", \"講義3\"]\n",
    "for lecture in lectures:\n",
    "    path = os.path.join(target_path, lecture)\n",
    "    for i in range(1, 16):\n",
    "        # エラーハンドリング\n",
    "        try:\n",
    "            os.makedirs(os.path.join(path, f\"{i:02d}\"))\n",
    "        except FileExistsError:\n",
    "            print(f\"{path}/{i:02d}は既に存在します。\")"
   ]
  },
  {
   "cell_type": "code",
   "execution_count": 17,
   "metadata": {},
   "outputs": [
    {
     "name": "stdout",
     "output_type": "stream",
     "text": [
      "\u001b[01;34m./3年前期\u001b[0m\n",
      "├── \u001b[01;34m講義1\u001b[0m\n",
      "│   ├── \u001b[01;34m01\u001b[0m\n",
      "│   ├── \u001b[01;34m02\u001b[0m\n",
      "│   ├── \u001b[01;34m03\u001b[0m\n",
      "│   ├── \u001b[01;34m04\u001b[0m\n",
      "│   ├── \u001b[01;34m05\u001b[0m\n",
      "│   ├── \u001b[01;34m06\u001b[0m\n",
      "│   ├── \u001b[01;34m07\u001b[0m\n",
      "│   ├── \u001b[01;34m08\u001b[0m\n",
      "│   ├── \u001b[01;34m09\u001b[0m\n",
      "│   ├── \u001b[01;34m10\u001b[0m\n",
      "│   ├── \u001b[01;34m11\u001b[0m\n",
      "│   ├── \u001b[01;34m12\u001b[0m\n",
      "│   ├── \u001b[01;34m13\u001b[0m\n",
      "│   ├── \u001b[01;34m14\u001b[0m\n",
      "│   └── \u001b[01;34m15\u001b[0m\n",
      "├── \u001b[01;34m講義2\u001b[0m\n",
      "│   ├── \u001b[01;34m01\u001b[0m\n",
      "│   ├── \u001b[01;34m02\u001b[0m\n",
      "│   ├── \u001b[01;34m03\u001b[0m\n",
      "│   ├── \u001b[01;34m04\u001b[0m\n",
      "│   ├── \u001b[01;34m05\u001b[0m\n",
      "│   ├── \u001b[01;34m06\u001b[0m\n",
      "│   ├── \u001b[01;34m07\u001b[0m\n",
      "│   ├── \u001b[01;34m08\u001b[0m\n",
      "│   ├── \u001b[01;34m09\u001b[0m\n",
      "│   ├── \u001b[01;34m10\u001b[0m\n",
      "│   ├── \u001b[01;34m11\u001b[0m\n",
      "│   ├── \u001b[01;34m12\u001b[0m\n",
      "│   ├── \u001b[01;34m13\u001b[0m\n",
      "│   ├── \u001b[01;34m14\u001b[0m\n",
      "│   └── \u001b[01;34m15\u001b[0m\n",
      "└── \u001b[01;34m講義3\u001b[0m\n",
      "    ├── \u001b[01;34m01\u001b[0m\n",
      "    ├── \u001b[01;34m02\u001b[0m\n",
      "    ├── \u001b[01;34m03\u001b[0m\n",
      "    ├── \u001b[01;34m04\u001b[0m\n",
      "    ├── \u001b[01;34m05\u001b[0m\n",
      "    ├── \u001b[01;34m06\u001b[0m\n",
      "    ├── \u001b[01;34m07\u001b[0m\n",
      "    ├── \u001b[01;34m08\u001b[0m\n",
      "    ├── \u001b[01;34m09\u001b[0m\n",
      "    ├── \u001b[01;34m10\u001b[0m\n",
      "    ├── \u001b[01;34m11\u001b[0m\n",
      "    ├── \u001b[01;34m12\u001b[0m\n",
      "    ├── \u001b[01;34m13\u001b[0m\n",
      "    ├── \u001b[01;34m14\u001b[0m\n",
      "    └── \u001b[01;34m15\u001b[0m\n",
      "\n",
      "49 directories, 0 files\n"
     ]
    }
   ],
   "source": [
    "# treeコマンドは自分でインストールしてください ｢tree コマンド インストール方法｣\n",
    "!tree {target_path}"
   ]
  }
 ],
 "metadata": {
  "kernelspec": {
   "display_name": "Python 3",
   "language": "python",
   "name": "python3"
  },
  "language_info": {
   "codemirror_mode": {
    "name": "ipython",
    "version": 3
   },
   "file_extension": ".py",
   "mimetype": "text/x-python",
   "name": "python",
   "nbconvert_exporter": "python",
   "pygments_lexer": "ipython3",
   "version": "3.11.1"
  },
  "orig_nbformat": 4
 },
 "nbformat": 4,
 "nbformat_minor": 2
}
